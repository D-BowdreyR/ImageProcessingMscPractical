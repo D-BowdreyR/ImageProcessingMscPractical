{
 "cells": [
  {
   "cell_type": "markdown",
   "metadata": {},
   "source": [
    "# Basic Python: Assignment 1\n",
    "\n",
    "In this notebook, you have to fill in the missing code (or fix buggy code) to do some basic programming tasks. The idea is you should be able to finish these pretty quickly, and get an idea for how python and the notebook system works. When we do more complex stuff (i.e. tomorrow), we will move to using scripts rather than notebooks.\n",
    "\n",
    "## Task 1\n",
    "In this directory is a file called \"Files.txt\". It contains a list of file names, each of which is contained in the directory \"files\". A few files are missing because a cat walked over the keyboard during the file copy procedue. Which files are missing?\n",
    "\n",
    "## Task 2\n",
    "Load the data from the files that are available so that the value inside each file can be quickly found from an integer file ID key. The values are floating point numbers. \n",
    "\n",
    "## Task 3 \n",
    "Produce a histogram of the data. Play around with the number of bins until it looks nice. Try some of the other options like normalisation. Label your axes!\n"
   ]
  },
  {
   "cell_type": "code",
   "execution_count": 67,
   "metadata": {},
   "outputs": [],
   "source": [
    "%matplotlib inline"
   ]
  },
  {
   "cell_type": "markdown",
   "metadata": {},
   "source": [
    "# Task 1"
   ]
  },
  {
   "cell_type": "code",
   "execution_count": 68,
   "metadata": {},
   "outputs": [
    {
     "name": "stdout",
     "output_type": "stream",
     "text": [
      "100\n",
      "97\n",
      "['589155271.txt', '219242066.txt', '728653832.txt']\n"
     ]
    }
   ],
   "source": [
    "# You need to get a list of the files in the directory \"files\"\n",
    "# You then need to compare it against a list generated from the \"Files.txt\" file.\n",
    "# Every pair of students has a unique set of files!\n",
    "# You will need a library to list the files in the directory\n",
    "\n",
    "\n",
    "# Here, import a library to list the files:\n",
    "import numpy as np\n",
    "import pandas as pd\n",
    "import os\n",
    "import matplotlib.pyplot as plt\n",
    "\n",
    "\n",
    "# Open the file containing the list of patients and read it into a list, one line at a time\n",
    "\n",
    "expectedFiles = [] # Start with an empty list\n",
    "\n",
    "# This is a handy way to make sure the file is closed when you're done with it.\n",
    "# For reference, the open command takes two arguments, a file name and an 'open mode' which may be 'r', 'w' or 'a' \n",
    "# Thise mean 'r'ead, 'w'rite and 'a'ppend\n",
    "with open(\"Files.txt\", 'r') as fileList:\n",
    "    for i in fileList:\n",
    "        expectedFiles.append(i.strip('\\n'))\n",
    "\n",
    "# Now you have a list of files read from the file, you just need to work out which ones are missing.\n",
    "# First of all, get a list of files in the directory (using a library function)\n",
    "\n",
    "actualFiles = []\n",
    "\n",
    "for i in os.listdir(path='files/'):\n",
    "    actualFiles.append(i)\n",
    "\n",
    "\n",
    "# Now you have two lists, you can compare them to find which files are not in the directory\n",
    "print(len(expectedFiles))\n",
    "print(len(actualFiles))\n",
    "\n",
    "dodgyfiles = []\n",
    "\n",
    "for i in expectedFiles:\n",
    "    if i not in actualFiles:\n",
    "        dodgyfiles.append(i)\n",
    "print(dodgyfiles)\n"
   ]
  },
  {
   "cell_type": "markdown",
   "metadata": {},
   "source": [
    "# Task 2\n"
   ]
  },
  {
   "cell_type": "code",
   "execution_count": 69,
   "metadata": {},
   "outputs": [
    {
     "data": {
      "text/plain": [
       "{'106557552.txt': ['48.1356297994'],\n",
       " '115643189.txt': ['32.1855213236'],\n",
       " '121144971.txt': ['25.1997139462'],\n",
       " '126874271.txt': ['74.6536161543'],\n",
       " '145923007.txt': ['50.8702866096'],\n",
       " '152834409.txt': ['23.8026492126'],\n",
       " '163442287.txt': ['70.7696087485'],\n",
       " '170454111.txt': ['61.4667366216'],\n",
       " '191959467.txt': ['63.2621973942'],\n",
       " '201239834.txt': ['70.3689465343'],\n",
       " '20185028.txt': ['34.4360697956'],\n",
       " '205450972.txt': ['28.5916466129'],\n",
       " '210724438.txt': ['60.7232327439'],\n",
       " '232134032.txt': ['32.5461706745'],\n",
       " '237264890.txt': ['64.7554079342'],\n",
       " '241950477.txt': ['63.9408073916'],\n",
       " '251602070.txt': ['48.8831814885'],\n",
       " '258397538.txt': ['54.7090177046'],\n",
       " '261088550.txt': ['54.4988554278'],\n",
       " '265700820.txt': ['61.8842504389'],\n",
       " '265961468.txt': ['38.4930257003'],\n",
       " '269627528.txt': ['49.6873006267'],\n",
       " '278329940.txt': ['49.4844723678'],\n",
       " '30865336.txt': ['68.8054281772'],\n",
       " '316168757.txt': ['64.0472558734'],\n",
       " '316627767.txt': ['63.1562885648'],\n",
       " '337770653.txt': ['50.9716979529'],\n",
       " '349457252.txt': ['75.0581481774'],\n",
       " '362797847.txt': ['29.6563890857'],\n",
       " '368895015.txt': ['71.918068156'],\n",
       " '387183888.txt': ['55.9465788867'],\n",
       " '391717643.txt': ['25.5016312127'],\n",
       " '391958007.txt': ['31.6471655322'],\n",
       " '392202280.txt': ['69.688735276'],\n",
       " '411101221.txt': ['55.2943248759'],\n",
       " '444892297.txt': ['68.9554978384'],\n",
       " '472555252.txt': ['36.7643406283'],\n",
       " '480036218.txt': ['39.5469726747'],\n",
       " '488835337.txt': ['27.1028788862'],\n",
       " '488987691.txt': ['40.4148121544'],\n",
       " '501159585.txt': ['59.0645196839'],\n",
       " '514920419.txt': ['61.5779542159'],\n",
       " '540781409.txt': ['42.902862118'],\n",
       " '564918420.txt': ['69.5866459986'],\n",
       " '567861339.txt': ['68.5558760719'],\n",
       " '571306821.txt': ['69.2750553312'],\n",
       " '590007667.txt': ['71.9358524019'],\n",
       " '59196514.txt': ['57.0014704401'],\n",
       " '604059287.txt': ['71.13091849'],\n",
       " '610418028.txt': ['59.7532683383'],\n",
       " '649155237.txt': ['66.3235616542'],\n",
       " '654164534.txt': ['46.6279591004'],\n",
       " '661981951.txt': ['41.8264330558'],\n",
       " '668995309.txt': ['28.3379793257'],\n",
       " '683557950.txt': ['73.1686043663'],\n",
       " '699270165.txt': ['48.6355750405'],\n",
       " '701733842.txt': ['28.0079651812'],\n",
       " '702558227.txt': ['34.3839793764'],\n",
       " '703974186.txt': ['37.7237695149'],\n",
       " '706115495.txt': ['59.1592916319'],\n",
       " '712687619.txt': ['30.6838960801'],\n",
       " '726620850.txt': ['24.3318115788'],\n",
       " '731535742.txt': ['27.6702767678'],\n",
       " '734066849.txt': ['50.0867309065'],\n",
       " '735615211.txt': ['60.7624862253'],\n",
       " '750640315.txt': ['31.1076391006'],\n",
       " '751797527.txt': ['40.8664436282'],\n",
       " '757115173.txt': ['58.803162795'],\n",
       " '76130907.txt': ['69.7460405288'],\n",
       " '768915941.txt': ['16.9761915852'],\n",
       " '787721926.txt': ['25.326173277'],\n",
       " '794831036.txt': ['24.3493469211'],\n",
       " '807459168.txt': ['69.8908796113'],\n",
       " '830140612.txt': ['62.8071294277'],\n",
       " '833679864.txt': ['50.8181878205'],\n",
       " '836172417.txt': ['50.1302110157'],\n",
       " '874130860.txt': ['28.31017361'],\n",
       " '882429132.txt': ['52.9876007592'],\n",
       " '88788390.txt': ['21.5879323504'],\n",
       " '89157174.txt': ['19.5608819928'],\n",
       " '901366996.txt': ['56.0037045623'],\n",
       " '910843984.txt': ['22.1781191367'],\n",
       " '911458095.txt': ['43.3104195825'],\n",
       " '912132486.txt': ['55.5063887646'],\n",
       " '913006098.txt': ['53.2486252813'],\n",
       " '914551147.txt': ['61.134396506'],\n",
       " '917460792.txt': ['45.2015294307'],\n",
       " '929429976.txt': ['30.954886697'],\n",
       " '932586519.txt': ['47.8901156459'],\n",
       " '941279029.txt': ['68.1203332791'],\n",
       " '947047278.txt': ['71.3512525749'],\n",
       " '955350626.txt': ['22.8422538233'],\n",
       " '969425420.txt': ['30.6226712508'],\n",
       " '969628285.txt': ['62.6859414171'],\n",
       " '978020243.txt': ['63.3999388608'],\n",
       " '980424644.txt': ['62.7396583078'],\n",
       " '992103594.txt': ['67.7604667945']}"
      ]
     },
     "execution_count": 69,
     "metadata": {},
     "output_type": "execute_result"
    }
   ],
   "source": [
    "# Now you have your file list, you can loop over it to load them\n",
    "# Think about which data structure is appropriate to meet the goal of the task\n",
    "# Bonus: this can be done in a single line!\n",
    "\n",
    "# Hint: Remember that the file names are just strings, and strings have some methods you may be able to use...\n",
    "# Hint: Look at the code used to read files in the previous task - you could repurpose that...\n",
    "# Hint: Remember that you can change a string into an integer by calling int() on it (provided it is all numbers).\n",
    "\n",
    "\n",
    "# you will need a for loop to go over the actualFiles list\n",
    "filedic = {}\n",
    "\n",
    "for aFile in actualFiles:\n",
    "    with open(\"files/\" + aFile, 'r') as thefile:\n",
    "        filedic[aFile] = []\n",
    "        for i in thefile:\n",
    "            filedic[aFile].append(i.strip('\\n'))\n",
    "            \n",
    "filedic\n"
   ]
  },
  {
   "cell_type": "markdown",
   "metadata": {},
   "source": [
    "# Task 3"
   ]
  },
  {
   "cell_type": "code",
   "execution_count": 89,
   "metadata": {},
   "outputs": [
    {
     "name": "stdout",
     "output_type": "stream",
     "text": [
      "[55.2943248759, 71.9358524019, 31.1076391006, 50.8181878205, 63.1562885648, 70.7696087485, 55.9465788867, 54.7090177046, 43.3104195825, 61.5779542159, 63.9408073916, 60.7232327439, 36.7643406283, 49.6873006267, 71.918068156, 56.0037045623, 75.0581481774, 68.1203332791, 28.0079651812, 68.5558760719, 63.3999388608, 24.3493469211, 62.7396583078, 23.8026492126, 49.4844723678, 69.688735276, 59.7532683383, 48.6355750405, 45.2015294307, 73.1686043663, 30.954886697, 60.7624862253, 32.5461706745, 47.8901156459, 39.5469726747, 61.134396506, 22.8422538233, 64.7554079342, 69.5866459986, 58.803162795, 71.3512525749, 21.5879323504, 25.326173277, 53.2486252813, 71.13091849, 67.7604667945, 22.1781191367, 28.3379793257, 48.1356297994, 59.0645196839, 66.3235616542, 31.6471655322, 59.1592916319, 40.8664436282, 68.9554978384, 16.9761915852, 46.6279591004, 28.31017361, 62.6859414171, 62.8071294277, 48.8831814885, 50.8702866096, 42.902862118, 40.4148121544, 30.6838960801, 25.5016312127, 70.3689465343, 61.8842504389, 63.2621973942, 37.7237695149, 50.9716979529, 28.5916466129, 50.1302110157, 29.6563890857, 69.2750553312, 25.1997139462, 61.4667366216, 32.1855213236, 69.7460405288, 57.0014704401, 52.9876007592, 41.8264330558, 24.3318115788, 74.6536161543, 19.5608819928, 27.1028788862, 55.5063887646, 64.0472558734, 38.4930257003, 30.6226712508, 34.4360697956, 34.3839793764, 27.6702767678, 54.4988554278, 50.0867309065, 68.8054281772, 69.8908796113]\n"
     ]
    },
    {
     "data": {
      "image/png": "[encoded data removed]",
      "text/plain": [
       "<matplotlib.figure.Figure at 0x10ee5d860>"
      ]
     },
     "metadata": {},
     "output_type": "display_data"
    }
   ],
   "source": [
    "# You will need to import a library to produce the histogram.\n",
    "# Check the documentation to see which functions you need, and what arguments they take.\n",
    "\n",
    "# Import a library\n",
    "#import libraryNameHere as plt # Should be obvious which one I mean!\n",
    "#all imports should be at the top of the file\n",
    "\n",
    "\n",
    "#turn the dictionary into a list of numbers\n",
    "list_values = []\n",
    "for i in filedic.values():\n",
    "    for l in i:\n",
    "        list_values.append(float(l))\n",
    "        \n",
    "list_values\n",
    "\n",
    "# Now create the histogram \n",
    "#sernum = pd.DataFrame(list_values)\n",
    "#sernum\n",
    "# There are loads of things to play with in plotting - have a go with some of them here (e.g. normalisation):\n",
    "#plt.plot(sernum,sernum.value_counts())\n",
    "plt.hist(list_values)\n",
    "plt.xlabel(\"Values\")\n",
    "plt.ylabel(\"Frequency\")\n",
    "\n",
    "# Label the axes!\n",
    "print(list_values)\n",
    "\n"
   ]
  }
 ],
 "metadata": {
  "kernelspec": {
   "display_name": "Python 3",
   "language": "python",
   "name": "python3"
  },
  "language_info": {
   "codemirror_mode": {
    "name": "ipython",
    "version": 3
   },
   "file_extension": ".py",
   "mimetype": "text/x-python",
   "name": "python",
   "nbconvert_exporter": "python",
   "pygments_lexer": "ipython3",
   "version": "3.6.4"
  }
 },
 "nbformat": 4,
 "nbformat_minor": 1
}
